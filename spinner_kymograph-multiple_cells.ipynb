{
 "cells": [
  {
   "cell_type": "code",
   "execution_count": null,
   "metadata": {
    "collapsed": false,
    "scrolled": true
   },
   "outputs": [],
   "source": [
    "#THIS IS NEWEST CODE\n",
    "\n",
    "# Import packages\n",
    "from __future__ import division, unicode_literals#, print_function\n",
    "%matplotlib inline\n",
    "import numpy as np\n",
    "from math import radians, sin, cos, floor\n",
    "import matplotlib as mpl\n",
    "import matplotlib.pyplot as plt\n",
    "import pandas as pd\n",
    "import trackpy as tp\n",
    "import scipy, pims\n",
    "from scipy import interpolate, signal\n",
    "from libtiff import TIFF\n",
    "from pandas import DataFrame, Series  # for convenience\n",
    "import cv2\n",
    "import time\n",
    "import scipy, xml.etree.ElementTree, tifffile\n",
    "from datetime import datetime\n",
    "import metamorph_timestamps\n",
    "\n",
    "mpl.rc('figure',  figsize=(16, 10))\n",
    "mpl.rc('image', cmap='gray')\n",
    "\n",
    "from scipy.ndimage.filters import median_filter"
   ]
  },
  {
   "cell_type": "code",
   "execution_count": null,
   "metadata": {
    "collapsed": false
   },
   "outputs": [],
   "source": [
    "# Path to tif stack \n",
    "\n",
    "# fname = './cropped_spinners_88p65Hz' \n",
    "# fname = './good_multi_cell'\n",
    "# fname = './one_switching_spinner'\n",
    "# fname = './Stream1-6washMotMid-spinners_bestbest'\n",
    "fname = './2016-11-04_spinners_switching_tz17_MM_met_OD_1_2'\n",
    "tifname = fname + '.tif'\n",
    "meta = metamorph_timestamps.get(tifname)\n",
    "print meta[-1]\n",
    "raw_frames = pims.TiffStack(tifname, as_grey=False)\n",
    "frames = [np.fromstring(f.data, dtype=np.int16) for f in raw_frames] # int16 may have to change depending on dtype\n",
    "frames = [np.reshape(f, (-1, raw_frames[0].shape[0], raw_frames[0].shape[1]) )[0] for f in frames]\n",
    "\n",
    "def convert_to_8bit(image):\n",
    "    # from int32\n",
    "    im = image.astype(np.float64)\n",
    "    im2 = (im - im.min())\n",
    "    im2 = im2*255/im2.max()\n",
    "    im2 = np.uint8(im2)\n",
    "    return im2\n",
    "\n",
    "bit_frames = []\n",
    "for i in range(len(frames)):\n",
    "    bit_frames.append(convert_to_8bit(frames[i]))\n",
    "frames = np.array(bit_frames)"
   ]
  },
  {
   "cell_type": "code",
   "execution_count": null,
   "metadata": {
    "collapsed": true
   },
   "outputs": [],
   "source": [
    "def show(image):\n",
    "    plt.figure()\n",
    "    plt.imshow(image)\n",
    "    plt.show()"
   ]
  },
  {
   "cell_type": "code",
   "execution_count": null,
   "metadata": {
    "collapsed": false
   },
   "outputs": [],
   "source": [
    "show(frames.mean(axis=0))"
   ]
  },
  {
   "cell_type": "code",
   "execution_count": null,
   "metadata": {
    "collapsed": false
   },
   "outputs": [],
   "source": [
    "# Compute variance of pixels across all frames\n",
    "pixel_var = np.mean(frames, axis=0)\n",
    "avg = pixel_var\n",
    "show(pixel_var)"
   ]
  },
  {
   "cell_type": "code",
   "execution_count": null,
   "metadata": {
    "collapsed": false
   },
   "outputs": [],
   "source": [
    "# Preview a frame\n",
    "preview_image = frames[0]\n",
    "plt.figure()\n",
    "plt.title('Preview')\n",
    "plt.imshow(preview_image)\n",
    "plt.show()"
   ]
  },
  {
   "cell_type": "code",
   "execution_count": null,
   "metadata": {
    "collapsed": false
   },
   "outputs": [],
   "source": [
    "avg = np.mean(frames, axis = 0)\n",
    "plt.imshow(avg)"
   ]
  },
  {
   "cell_type": "code",
   "execution_count": null,
   "metadata": {
    "collapsed": false
   },
   "outputs": [],
   "source": [
    "f = tp.locate(avg, diameter=13, invert=False) #change 15 later, need to tune\n",
    "f = f[(f['ecc'] < 0.1)\n",
    "       ]\n",
    "f.head() # shows the first few rows of data"
   ]
  },
  {
   "cell_type": "code",
   "execution_count": null,
   "metadata": {
    "collapsed": false
   },
   "outputs": [],
   "source": [
    "fig, ax = plt.subplots()\n",
    "ax.hist(f['mass'], bins=20)\n",
    "print ax\n",
    "# Optionally, label the axes.\n",
    "ax.set(xlabel='mass', ylabel='count');"
   ]
  },
  {
   "cell_type": "code",
   "execution_count": null,
   "metadata": {
    "collapsed": false
   },
   "outputs": [],
   "source": [
    "plt.figure()  # make a new figure\n",
    "tp.annotate(f, avg);\n",
    "# tp.annotate(f, avg);\n",
    "#possibly filter particles using ecc vals stationary cells will not look circular"
   ]
  },
  {
   "cell_type": "code",
   "execution_count": null,
   "metadata": {
    "collapsed": false
   },
   "outputs": [],
   "source": [
    "f"
   ]
  },
  {
   "cell_type": "code",
   "execution_count": null,
   "metadata": {
    "collapsed": false
   },
   "outputs": [],
   "source": [
    "centers = []\n",
    "num_elems = len(f.x) # number of particles detected\n",
    "xs = list(f.x)\n",
    "ys = list(f.y)\n",
    "for i in range(num_elems):\n",
    "    x = xs[i]\n",
    "    y = ys[i]\n",
    "    center = [x, y]\n",
    "    centers.append(center)\n",
    "radius = 20 #pixel radius"
   ]
  },
  {
   "cell_type": "code",
   "execution_count": null,
   "metadata": {
    "collapsed": false
   },
   "outputs": [],
   "source": [
    "angs=[]\n",
    "for i in np.linspace(0,360,24): #select num. intervals per circle.\n",
    "    angs.append(i)"
   ]
  },
  {
   "cell_type": "code",
   "execution_count": null,
   "metadata": {
    "collapsed": false
   },
   "outputs": [],
   "source": [
    "w, l = 2.45, radius # choose dimensions of mask\n",
    "mymask = np.array([[w,0],[-w,0],[-w,l],[w,l]])"
   ]
  },
  {
   "cell_type": "code",
   "execution_count": null,
   "metadata": {
    "collapsed": true
   },
   "outputs": [],
   "source": [
    "def create_rot_mask(orig_mask, deg):\n",
    "    rotmymask = []\n",
    "    ang = radians(deg)\n",
    "    for i in orig_mask:\n",
    "        rotMatrix = np.array([[cos(ang), -sin(ang)], [sin(ang),  cos(ang)]])\n",
    "        rotmymask.append(list(rotMatrix.dot(i)))\n",
    "    return np.array(rotmymask)\n",
    "\n",
    "def adj_ctr_mask(mask, deg, cell_num):\n",
    "    adj_mask = []\n",
    "    rotated_mask_about_00 = create_rot_mask(mask, deg)\n",
    "    for mask_boundary in rotated_mask_about_00:\n",
    "        # Move the origin of the mask to the center of the bacterium.\n",
    "        # (Mask is originally at origin (0,0).)\n",
    "        adj_mask.append(list(mask_boundary+centers[cell_num]))\n",
    "    return np.array(adj_mask)"
   ]
  },
  {
   "cell_type": "code",
   "execution_count": null,
   "metadata": {
    "collapsed": true
   },
   "outputs": [],
   "source": [
    "def angle_kym(ang, cell_num):\n",
    "    ang_ar=[]\n",
    "    t0 = time.time()\n",
    "    for i in range(frames.shape[0]):\n",
    "#         print \"Step1\", time.time() - t0\n",
    "        frame = frames[i].astype(np.uint8)\n",
    "        box = np.int64(adj_ctr_mask(mymask, ang, cell_num)) # this is the box rotated at ang deg.\n",
    "#         print \"Step2\", time.time() - t0\n",
    "        cv2.drawContours(frame,[box],0,(0,0,0),1)\n",
    "#         print \"Step3\", time.time() - t0\n",
    "#         if i == 0 and ang == 0: # shows the windows on top of 75th frame\n",
    "#             show(frame) # only showing filter do a 360 on first frame.\n",
    "        mask = np.zeros(frame.shape,np.uint8)\n",
    "        cv2.drawContours(mask,[box],0,1,-1) # cv2.drawContours(mask,[box],0,255,-1)\n",
    "#         print \"Step4\", time.time() - t0\n",
    "        ang_ar.append(cv2.mean(frame,mask=mask)[0])\n",
    "#         print \"Step5\", time.time() - t0\n",
    "    return ang_ar # for each frame, computes the pixel average for a window rot'd at a given theta "
   ]
  },
  {
   "cell_type": "code",
   "execution_count": null,
   "metadata": {
    "collapsed": false
   },
   "outputs": [],
   "source": [
    "def invert_colors(kymograph):\n",
    "    kymograph -= kymograph.min()\n",
    "    kymograph /= kymograph.max()\n",
    "    return (1-kymograph) * 255"
   ]
  },
  {
   "cell_type": "code",
   "execution_count": null,
   "metadata": {
    "collapsed": true
   },
   "outputs": [],
   "source": [
    "def build_kymograph(cell_num):\n",
    "    kymograph = []\n",
    "    for ang in angs:\n",
    "        kymograph.append(angle_kym(ang, cell_num))\n",
    "    return np.array(kymograph)"
   ]
  },
  {
   "cell_type": "code",
   "execution_count": null,
   "metadata": {
    "collapsed": true
   },
   "outputs": [],
   "source": [
    "kymograph_images = None\n",
    "def compute_trace(kymograph):\n",
    "    trace = []\n",
    "    # Remove background by subtracting median of each vertical column from itself.\n",
    "    no_background=[]\n",
    "#     orig = np.copy(kymograph)\n",
    "    orig = kymograph\n",
    "    for i in range(orig.shape[1]):\n",
    "        # black cells on white background (switch signs if reversed)\n",
    "        no_background.append(orig[:,i]-np.median(orig,1)) \n",
    "    no_background=np.array(no_background).T\n",
    "    \n",
    "    # Change negative values to 0.\n",
    "    clipped_background = no_background.clip(min=0)\n",
    "    \n",
    "    ## Hacky\n",
    "    kymograph_images.append(clipped_background)\n",
    "    ##\n",
    "    \n",
    "    # Extract 1D signal using LA trick.\n",
    "    def exp_func(x):\n",
    "        return np.dot(np.arange(len(x)), np.power(x, 10))/(np.sum(np.power(x, 10)))\n",
    "    weighted_sum = np.apply_along_axis(exp_func,0, clipped_background)\n",
    "    \n",
    "    # Derivative of 1D signal. Continuous parts show angular velocity of cell (not 100% sure on this.)\n",
    "    conv = np.convolve([-1.,1],weighted_sum, mode='full')[:-1]\n",
    "    median_filtered_conv = median_filter(conv, 7) #pick window size based on result. second arg and odd number.\n",
    "\n",
    "    trace = [median_filtered_conv]\n",
    "    \n",
    "    return trace"
   ]
  },
  {
   "cell_type": "code",
   "execution_count": null,
   "metadata": {
    "collapsed": false,
    "scrolled": true
   },
   "outputs": [],
   "source": [
    "bacterial_traces = []\n",
    "kymograph_images = []\n",
    "for cell_num in range(num_elems):\n",
    "    t0 = time.time()\n",
    "    print 'Percent complete:', cell_num*1./num_elems, '%'\n",
    "    kymograph = build_kymograph(cell_num)\n",
    "    print \"step1\", time.time() - t0\n",
    "    # kymograph = invert_colors(kymograph) -- this line for black cells on white background\n",
    "    trace = compute_trace(kymograph)\n",
    "    print \"step2\", time.time() - t0\n",
    "    bacterial_traces.append(trace)"
   ]
  },
  {
   "cell_type": "code",
   "execution_count": null,
   "metadata": {
    "collapsed": true
   },
   "outputs": [],
   "source": [
    "# plot angular vs time\n",
    "# delta theta/delta t\n",
    "# input: video\n",
    "# output: vel plots per cell"
   ]
  },
  {
   "cell_type": "code",
   "execution_count": null,
   "metadata": {
    "collapsed": false
   },
   "outputs": [],
   "source": [
    "def plot_kymograph(idx):\n",
    "    plt.title('Kymograph', fontsize=20)\n",
    "    plt.ylabel('Angles', fontsize=20)\n",
    "    plt.xlabel('Frame', fontsize=20)\n",
    "    plt.imshow(kymograph_images[idx][:,:300])"
   ]
  },
  {
   "cell_type": "code",
   "execution_count": null,
   "metadata": {
    "collapsed": false
   },
   "outputs": [],
   "source": [
    "plot_kymograph(3)"
   ]
  },
  {
   "cell_type": "code",
   "execution_count": null,
   "metadata": {
    "collapsed": false
   },
   "outputs": [],
   "source": [
    "#A weighted sum of the vertical columns, which relates the max intensity in a column to its position.\n",
    "# def exp_func(x):\n",
    "#     return np.dot(np.arange(len(x)), np.power(x, 10))/(np.sum(np.power(x, 10)))\n",
    "\n",
    "# weighted_sum = np.apply_along_axis(exp_func,0, clipped_background)\n",
    "\n",
    "plt.xlabel('Frame', fontsize=20)\n",
    "plt.ylabel('Angle', fontsize=20)\n",
    "plt.title('Kymograph with Position Detected', fontsize=20)\n",
    "plt.plot(weighted_sum, 'r-', lw = 3)\n",
    "plt.imshow(clipped_background,cmap='gray')"
   ]
  },
  {
   "cell_type": "code",
   "execution_count": null,
   "metadata": {
    "collapsed": false
   },
   "outputs": [],
   "source": [
    "# #Derivative of 1D signal. Continuous parts show angular velocity of cell (not 100% sure on this.)\n",
    "# conv = np.convolve([-1.,1],weighted_sum, mode='full')[:-1]\n",
    "plt.plot(conv)"
   ]
  },
  {
   "cell_type": "code",
   "execution_count": null,
   "metadata": {
    "collapsed": false
   },
   "outputs": [],
   "source": [
    "# #Derivative of 1D signal. Continuous parts show angular velocity of cell (not 100% sure on this.)\n",
    "# from scipy.ndimage.filters import median_filter\n",
    "# median_filtered_conv = median_filter(conv, 7) #pick window size based on result. second arg and odd number.\n",
    "plt.figure(figsize=(plt.figaspect(.265))) \n",
    "plt.axhline(0, 0, len(median_filtered_conv), linewidth=3, color='r', ls ='--')\n",
    "plt.plot(median_filtered_conv)\n",
    "plt.xlabel('Frame', fontsize=15)\n",
    "plt.ylabel('Velocity [angle/frame]', fontsize=15)\n",
    "plt.title('Angular Velocity', fontsize=20)"
   ]
  },
  {
   "cell_type": "code",
   "execution_count": null,
   "metadata": {
    "collapsed": false
   },
   "outputs": [],
   "source": [
    "#Tells when the derivative changes sign.\n",
    "signs=np.sign(conv)\n",
    "plt.plot(signs)\n",
    "plt.ylim(-1.2,1.2)"
   ]
  },
  {
   "cell_type": "code",
   "execution_count": null,
   "metadata": {
    "collapsed": true
   },
   "outputs": [],
   "source": [
    "from scipy.ndimage.filters import median_filter"
   ]
  },
  {
   "cell_type": "code",
   "execution_count": null,
   "metadata": {
    "collapsed": false,
    "scrolled": false
   },
   "outputs": [],
   "source": [
    "#Applies median filter to above signal.\n",
    "filtered_signs=median_filter(signs, 5) #pick window size based on result. second arg and odd number.\n",
    "plt.plot(filtered_signs)\n",
    "plt.ylim(-1.2,1.2)"
   ]
  },
  {
   "cell_type": "code",
   "execution_count": null,
   "metadata": {
    "collapsed": false
   },
   "outputs": [],
   "source": [
    "#Returns the indices (frame locations) of when the sign switches.\n",
    "def sign_switch(oneDarray):\n",
    "    inds=[]\n",
    "    for ind in range(len(oneDarray)-1):\n",
    "        if (oneDarray[ind]<0 and oneDarray[ind+1]>0) or (oneDarray[ind]>0 and oneDarray[ind+1]<0):\n",
    "            inds.append(ind)\n",
    "    return np.array(inds)"
   ]
  },
  {
   "cell_type": "code",
   "execution_count": null,
   "metadata": {
    "collapsed": false
   },
   "outputs": [],
   "source": [
    "switched_frames = sign_switch(filtered_signs)\n",
    "switched_frames\n",
    "\n",
    "#Positive values correspond to cw rotation. Negative = ccw rotation.\n",
    "cw, ccw=[],[]\n",
    "for i in range(len(filtered_signs)):\n",
    "    if filtered_signs[i]<0:\n",
    "        ccw.append(i)\n",
    "    if filtered_signs[i]>0:\n",
    "        cw.append(i)\n",
    "cw, ccw = np.array(cw), np.array(ccw)"
   ]
  },
  {
   "cell_type": "code",
   "execution_count": null,
   "metadata": {
    "collapsed": false,
    "scrolled": true
   },
   "outputs": [],
   "source": [
    "import matplotlib.patches as mpatches\n",
    "num_frames = orig.shape[1]\n",
    "#Plot horiz. line s.t. color represents detected dir. of rotation.\n",
    "sign_colors = ['green' if np.sign(value)==1 else 'red' for value in filtered_signs]\n",
    "plt.scatter(np.arange(num_frames), np.ones(num_frames)*100, color=sign_colors, marker='s')\n",
    "\n",
    "red_patch = mpatches.Patch(color='red', label='Counterclockwise')\n",
    "green_patch = mpatches.Patch(color='green', label='Clockwise')\n",
    "plt.legend(bbox_to_anchor=(0., 1.02, 1., .102), handles=[green_patch, red_patch], loc=3, ncol=2, mode=\"expand\", borderaxespad=0, fontsize=20)\n",
    "\n",
    "#Plot vertical line where switch detected.\n",
    "for frame in switched_frames:\n",
    "    plt.axvline(frame, linewidth=3, color='b', ls ='--')\n",
    "\n",
    "#Show original image in background.\n",
    "plt.imshow(np.flipud(orig), cmap='gray', extent=(0,orig.shape[1],360,0), aspect='.265')\n",
    "\n",
    "plt.gca().invert_yaxis()\n",
    "plt.xlabel('Frame',fontsize=20)\n",
    "plt.ylabel('Angle (deg)', fontsize=20)\n",
    "plt.show()"
   ]
  },
  {
   "cell_type": "code",
   "execution_count": null,
   "metadata": {
    "collapsed": true
   },
   "outputs": [],
   "source": [
    "# def print_to_csv(input1, title):\n",
    "#     input_list = list(input1)\n",
    "#     with open(title + \".csv\", \"wb\") as csvfile:\n",
    "#         out = csv.writer(csvfile)\n",
    "#         out.writerow(['name','Category'])\n",
    "#         for i in range(0, len(input_list)):\n",
    "#             out.writerow([str(i+1), str(input_list[i])])"
   ]
  },
  {
   "cell_type": "code",
   "execution_count": null,
   "metadata": {
    "collapsed": false
   },
   "outputs": [],
   "source": [
    "def get_date(path_to_tif):\n",
    "    # Parse timestamp strings from the XML \n",
    "    # of the Metamorph metadata.\n",
    "    # Returns an equivalent numpy array (in miliseconds).\n",
    "    scope_times = []\n",
    "    scope_tif_file = tifffile.TiffFile(path_to_tif)\n",
    "    for t in range(len(scope_tif_file)):\n",
    "        metadata = scope_tif_file[t].image_description\n",
    "        root = xml.etree.ElementTree.fromstring(metadata).find('PlaneInfo')        \n",
    "        for neighbor in root:\n",
    "            if neighbor.attrib['type'] == 'time':\n",
    "                if neighbor.attrib['id'] == 'acquisition-time-local':\n",
    "                    first = neighbor.attrib['value']\n",
    "                    return first"
   ]
  },
  {
   "cell_type": "code",
   "execution_count": null,
   "metadata": {
    "collapsed": false
   },
   "outputs": [],
   "source": [
    "def print_to_csv(data, fname, names, meta):\n",
    "    acquisition_time = get_date(tifname)\n",
    "    with open(fname + \".csv\", \"wb\") as f:\n",
    "        f.write(\"Velocity Data,\" + '\\n')\n",
    "        f.write(tifname + ',\\n')\n",
    "        f.write(acquisition_time + ',\\n,\\n')\n",
    "        f.write('time (ms),velocity\\n')\n",
    "        T = len(data[0])\n",
    "        Cells = len(data)\n",
    "        for t in range(T):\n",
    "            new_row_in_file = str(meta[t]) + ','\n",
    "            for cell_data in range(Cells-1):\n",
    "                new_row_in_file += (str(data[cell_data][t]) + ',')\n",
    "            new_row_in_file += (str(data[Cells-1][t]))\n",
    "            f.write(new_row_in_file + '\\n')\n",
    "    f.close()"
   ]
  },
  {
   "cell_type": "code",
   "execution_count": null,
   "metadata": {
    "collapsed": false
   },
   "outputs": [],
   "source": [
    "print_to_csv([median_filtered_conv], 'test_csv', [tifname], meta)"
   ]
  },
  {
   "cell_type": "code",
   "execution_count": null,
   "metadata": {
    "collapsed": true
   },
   "outputs": [],
   "source": [
    "# Goal:\n",
    "# * Filter particles better\n",
    "# * Organize code\n",
    "# * Write data to .csv\n",
    "# Want csv to contain \"rawest\" data possible (traces)"
   ]
  },
  {
   "cell_type": "code",
   "execution_count": null,
   "metadata": {
    "collapsed": true
   },
   "outputs": [],
   "source": []
  }
 ],
 "metadata": {
  "kernelspec": {
   "display_name": "Python 2",
   "language": "python",
   "name": "python2"
  },
  "language_info": {
   "codemirror_mode": {
    "name": "ipython",
    "version": 2
   },
   "file_extension": ".py",
   "mimetype": "text/x-python",
   "name": "python",
   "nbconvert_exporter": "python",
   "pygments_lexer": "ipython2",
   "version": "2.7.11"
  }
 },
 "nbformat": 4,
 "nbformat_minor": 0
}
